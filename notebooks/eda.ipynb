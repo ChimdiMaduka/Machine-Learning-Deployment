{
 "cells": [
  {
   "cell_type": "markdown",
   "id": "20b066dc",
   "metadata": {},
   "source": [
    "# EDA Notebook\n",
    "This notebook provides quick exploratory checks to preview the dataset and examine missing values.\n",
    "It will try common locations for the CSV and load the first one it finds (project `data/sample.csv` is preferred)."
   ]
  },
  {
   "cell_type": "code",
   "execution_count": 1,
   "id": "555dc725",
   "metadata": {},
   "outputs": [
    {
     "name": "stdout",
     "output_type": "stream",
     "text": [
      "Loading dataset from: c:\\Users\\Maduka\\OneDrive\\Documents\\USvisaProject\\visa_classifier\\notebooks\\..\\data\\sample.csv\n",
      "Loaded. shape= (25480, 12)\n"
     ]
    }
   ],
   "source": [
    "# Imports and helpers\n",
    "import os\n",
    "import pandas as pd\n",
    "import numpy as np\n",
    "import matplotlib.pyplot as plt\n",
    "import seaborn as sns\n",
    "from IPython.display import display\n",
    "sns.set(style=\"whitegrid\")\n",
    "\n",
    "# Try a list of likely paths (project data/ first, then parent, then downloads)\n",
    "candidates = [\n",
    "    os.path.join(os.getcwd(), 'data', 'sample.csv'),\n",
    "    os.path.join(os.getcwd(), '..', 'data', 'sample.csv'),\n",
    "    os.path.expanduser('~/Downloads/Visadataset.csv'),\n",
    "    'C:/Users/Maduka/Downloads/Visadataset.csv'\n",
    "]\n",
    "path = None\n",
    "for p in candidates:\n",
    "    if p and os.path.exists(p):\n",
    "        path = p\n",
    "        break\n",
    "\n",
    "if path is None:\n",
    "    raise FileNotFoundError(f'Could not find dataset in candidates: {candidates}')\n",
    "\n",
    "print('Loading dataset from:', path)\n",
    "# Use a robust read to avoid early failures on messy rows\n",
    "df = pd.read_csv(path, low_memory=False, on_bad_lines='skip')\n",
    "print('Loaded. shape=', df.shape)"
   ]
  },
  {
   "cell_type": "markdown",
   "id": "cc98b9d7",
   "metadata": {},
   "source": [
    "## Cell Insight — Data loading and imports\n",
    "\n",
    "- Purpose: import commonly-used EDA libraries and load the dataset from likely locations.\n",
    "- Why this approach: using a short list of candidate paths keeps the notebook robust across environments; `low_memory=False` and `on_bad_lines='skip'` avoid parse failures on messy CSV files.\n",
    "- Basic insight: if this cell runs successfully, the dataset is available as `df` and you can proceed with lightweight checks and visualizations."
   ]
  },
  {
   "cell_type": "code",
   "execution_count": 4,
   "id": "bf417238",
   "metadata": {},
   "outputs": [
    {
     "data": {
      "text/html": [
       "<div>\n",
       "<style scoped>\n",
       "    .dataframe tbody tr th:only-of-type {\n",
       "        vertical-align: middle;\n",
       "    }\n",
       "\n",
       "    .dataframe tbody tr th {\n",
       "        vertical-align: top;\n",
       "    }\n",
       "\n",
       "    .dataframe thead th {\n",
       "        text-align: right;\n",
       "    }\n",
       "</style>\n",
       "<table border=\"1\" class=\"dataframe\">\n",
       "  <thead>\n",
       "    <tr style=\"text-align: right;\">\n",
       "      <th></th>\n",
       "      <th>case_id</th>\n",
       "      <th>continent</th>\n",
       "      <th>education_of_employee</th>\n",
       "      <th>has_job_experience</th>\n",
       "      <th>requires_job_training</th>\n",
       "      <th>no_of_employees</th>\n",
       "      <th>yr_of_estab</th>\n",
       "      <th>region_of_employment</th>\n",
       "      <th>prevailing_wage</th>\n",
       "      <th>unit_of_wage</th>\n",
       "      <th>full_time_position</th>\n",
       "      <th>case_status</th>\n",
       "    </tr>\n",
       "  </thead>\n",
       "  <tbody>\n",
       "    <tr>\n",
       "      <th>0</th>\n",
       "      <td>EZYV01</td>\n",
       "      <td>Asia</td>\n",
       "      <td>High School</td>\n",
       "      <td>N</td>\n",
       "      <td>N</td>\n",
       "      <td>14513</td>\n",
       "      <td>2007</td>\n",
       "      <td>West</td>\n",
       "      <td>592.2029</td>\n",
       "      <td>Hour</td>\n",
       "      <td>Y</td>\n",
       "      <td>Denied</td>\n",
       "    </tr>\n",
       "    <tr>\n",
       "      <th>1</th>\n",
       "      <td>EZYV02</td>\n",
       "      <td>Asia</td>\n",
       "      <td>Master's</td>\n",
       "      <td>Y</td>\n",
       "      <td>N</td>\n",
       "      <td>2412</td>\n",
       "      <td>2002</td>\n",
       "      <td>Northeast</td>\n",
       "      <td>83425.6500</td>\n",
       "      <td>Year</td>\n",
       "      <td>Y</td>\n",
       "      <td>Certified</td>\n",
       "    </tr>\n",
       "    <tr>\n",
       "      <th>2</th>\n",
       "      <td>EZYV03</td>\n",
       "      <td>Asia</td>\n",
       "      <td>Bachelor's</td>\n",
       "      <td>N</td>\n",
       "      <td>Y</td>\n",
       "      <td>44444</td>\n",
       "      <td>2008</td>\n",
       "      <td>West</td>\n",
       "      <td>122996.8600</td>\n",
       "      <td>Year</td>\n",
       "      <td>Y</td>\n",
       "      <td>Denied</td>\n",
       "    </tr>\n",
       "    <tr>\n",
       "      <th>3</th>\n",
       "      <td>EZYV04</td>\n",
       "      <td>Asia</td>\n",
       "      <td>Bachelor's</td>\n",
       "      <td>N</td>\n",
       "      <td>N</td>\n",
       "      <td>98</td>\n",
       "      <td>1897</td>\n",
       "      <td>West</td>\n",
       "      <td>83434.0300</td>\n",
       "      <td>Year</td>\n",
       "      <td>Y</td>\n",
       "      <td>Denied</td>\n",
       "    </tr>\n",
       "    <tr>\n",
       "      <th>4</th>\n",
       "      <td>EZYV05</td>\n",
       "      <td>Africa</td>\n",
       "      <td>Master's</td>\n",
       "      <td>Y</td>\n",
       "      <td>N</td>\n",
       "      <td>1082</td>\n",
       "      <td>2005</td>\n",
       "      <td>South</td>\n",
       "      <td>149907.3900</td>\n",
       "      <td>Year</td>\n",
       "      <td>Y</td>\n",
       "      <td>Certified</td>\n",
       "    </tr>\n",
       "  </tbody>\n",
       "</table>\n",
       "</div>"
      ],
      "text/plain": [
       "  case_id continent education_of_employee has_job_experience  \\\n",
       "0  EZYV01      Asia           High School                  N   \n",
       "1  EZYV02      Asia              Master's                  Y   \n",
       "2  EZYV03      Asia            Bachelor's                  N   \n",
       "3  EZYV04      Asia            Bachelor's                  N   \n",
       "4  EZYV05    Africa              Master's                  Y   \n",
       "\n",
       "  requires_job_training  no_of_employees  yr_of_estab region_of_employment  \\\n",
       "0                     N            14513         2007                 West   \n",
       "1                     N             2412         2002            Northeast   \n",
       "2                     Y            44444         2008                 West   \n",
       "3                     N               98         1897                 West   \n",
       "4                     N             1082         2005                South   \n",
       "\n",
       "   prevailing_wage unit_of_wage full_time_position case_status  \n",
       "0         592.2029         Hour                  Y      Denied  \n",
       "1       83425.6500         Year                  Y   Certified  \n",
       "2      122996.8600         Year                  Y      Denied  \n",
       "3       83434.0300         Year                  Y      Denied  \n",
       "4      149907.3900         Year                  Y   Certified  "
      ]
     },
     "metadata": {},
     "output_type": "display_data"
    },
    {
     "name": "stdout",
     "output_type": "stream",
     "text": [
      "Columns (12):\n",
      "['case_id', 'continent', 'education_of_employee', 'has_job_experience', 'requires_job_training', 'no_of_employees', 'yr_of_estab', 'region_of_employment', 'prevailing_wage', 'unit_of_wage', 'full_time_position', 'case_status']\n"
     ]
    }
   ],
   "source": [
    "# Preview the data\n",
    "display(df.head())\n",
    "print('Columns ({}):'.format(len(df.columns)))\n",
    "print(df.columns.tolist())"
   ]
  },
  {
   "cell_type": "markdown",
   "id": "9282417e",
   "metadata": {},
   "source": [
    "## Cell Insight — Data preview\n",
    "\n",
    "- Purpose: display the first rows and list columns to get an immediate sense of the dataset structure and column names.\n",
    "- Why this approach: a quick head() view helps identify messy headers, obvious missing values, or mis-typed columns before further analysis.\n",
    "- Basic insight: use the printed column list to decide which columns are likely numeric, categorical, or target candidates."
   ]
  },
  {
   "cell_type": "code",
   "execution_count": 5,
   "id": "caf41ece",
   "metadata": {},
   "outputs": [
    {
     "data": {
      "text/plain": [
       "case_id                   object\n",
       "continent                 object\n",
       "education_of_employee     object\n",
       "has_job_experience        object\n",
       "requires_job_training     object\n",
       "no_of_employees            int64\n",
       "yr_of_estab                int64\n",
       "region_of_employment      object\n",
       "prevailing_wage          float64\n",
       "unit_of_wage              object\n",
       "full_time_position        object\n",
       "case_status               object\n",
       "dtype: object"
      ]
     },
     "metadata": {},
     "output_type": "display_data"
    },
    {
     "name": "stdout",
     "output_type": "stream",
     "text": [
      "\n",
      "Non-null counts:\n"
     ]
    },
    {
     "data": {
      "text/plain": [
       "case_id                  25480\n",
       "continent                25480\n",
       "education_of_employee    25480\n",
       "has_job_experience       25480\n",
       "requires_job_training    25480\n",
       "no_of_employees          25480\n",
       "yr_of_estab              25480\n",
       "region_of_employment     25480\n",
       "prevailing_wage          25480\n",
       "unit_of_wage             25480\n",
       "full_time_position       25480\n",
       "case_status              25480\n",
       "dtype: int64"
      ]
     },
     "metadata": {},
     "output_type": "display_data"
    }
   ],
   "source": [
    "# Data types and non-null counts\n",
    "display(df.dtypes)\n",
    "print(f\"\\nNon-null counts:\")\n",
    "display(df.count())"
   ]
  },
  {
   "cell_type": "markdown",
   "id": "2d80bdfe",
   "metadata": {},
   "source": [
    "## Cell Insight — Data types and non-null counts\n",
    "\n",
    "- Purpose: surface each column's dtype and the counts of non-null values.\n",
    "- Why this approach: dtypes and non-null counts reveal parsing issues (numbers stored as strings), and columns with many nulls which may need special handling.\n",
    "- Basic insight: focus on columns where non-null counts are much lower than the dataset length; these may need imputation or exclusion."
   ]
  },
  {
   "cell_type": "code",
   "execution_count": 7,
   "id": "3c2e1c65",
   "metadata": {},
   "outputs": [
    {
     "data": {
      "text/html": [
       "<div>\n",
       "<style scoped>\n",
       "    .dataframe tbody tr th:only-of-type {\n",
       "        vertical-align: middle;\n",
       "    }\n",
       "\n",
       "    .dataframe tbody tr th {\n",
       "        vertical-align: top;\n",
       "    }\n",
       "\n",
       "    .dataframe thead th {\n",
       "        text-align: right;\n",
       "    }\n",
       "</style>\n",
       "<table border=\"1\" class=\"dataframe\">\n",
       "  <thead>\n",
       "    <tr style=\"text-align: right;\">\n",
       "      <th></th>\n",
       "      <th>count</th>\n",
       "      <th>percent</th>\n",
       "    </tr>\n",
       "  </thead>\n",
       "  <tbody>\n",
       "  </tbody>\n",
       "</table>\n",
       "</div>"
      ],
      "text/plain": [
       "Empty DataFrame\n",
       "Columns: [count, percent]\n",
       "Index: []"
      ]
     },
     "metadata": {},
     "output_type": "display_data"
    }
   ],
   "source": [
    "# Missing value summary\n",
    "missing_counts = df.isnull().sum()\n",
    "missing_pct = (missing_counts / len(df)) * 100\n",
    "missing_summary = pd.DataFrame({'count': missing_counts, 'percent': missing_pct}).sort_values('count', ascending=False)\n",
    "display(missing_summary[missing_summary['count']>0])"
   ]
  },
  {
   "cell_type": "markdown",
   "id": "4fcec19f",
   "metadata": {},
   "source": [
    "## Cell Insight — Missing value summary\n",
    "\n",
    "- Purpose: compute missing counts and percentages per column and show columns with at least one missing value.\n",
    "- Why this approach: quickly identifies columns requiring imputation, removal, or special treatment; sorting by count focuses attention on the largest problems first.\n",
    "- Basic insight: use the `missing_summary` output to select columns for imputation, dropping, or further visualization (e.g., how missingness correlates with the target)."
   ]
  },
  {
   "cell_type": "code",
   "execution_count": 8,
   "id": "c36f9a6c",
   "metadata": {},
   "outputs": [
    {
     "name": "stdout",
     "output_type": "stream",
     "text": [
      "Columns with missing values: []\n"
     ]
    }
   ],
   "source": [
    "# Show columns with missing values\n",
    "cols_missing = missing_summary[missing_summary['count']>0].index.tolist()\n",
    "print('Columns with missing values:', cols_missing)"
   ]
  },
  {
   "cell_type": "markdown",
   "id": "779a3cf6",
   "metadata": {},
   "source": [
    "## Cell Insight — Columns with missing values\n",
    "\n",
    "- Purpose: list which columns have missing values (derived from `missing_summary`).\n",
    "- Why this approach: a compact list is easier to scan than a full table; good for deciding which variables to inspect further or include in downstream imputation logic.\n",
    "- Basic insight: next steps typically include plotting missingness patterns by column and cross-tabulating missingness against the target."
   ]
  },
  {
   "cell_type": "code",
   "execution_count": 9,
   "id": "78337131",
   "metadata": {},
   "outputs": [
    {
     "name": "stdout",
     "output_type": "stream",
     "text": [
      "No missing values found in dataset.\n"
     ]
    }
   ],
   "source": [
    "# Visualize missingness heatmap for columns with missing values \n",
    "if cols_missing:\n",
    "    sample_df = df[cols_missing] if len(df)<=5000 else df[cols_missing].sample(5000, random_state=0)\n",
    "    plt.figure(figsize=(min(12, len(cols_missing)*0.5+3), 6))\n",
    "    sns.heatmap(sample_df.isnull(), cbar=False, yticklabels=False, cmap='viridis')\n",
    "    plt.title('Missing values heatmap (sample)')\n",
    "    plt.show()\n",
    "else:\n",
    "    print('No missing values found in dataset.')"
   ]
  },
  {
   "cell_type": "markdown",
   "id": "7c5db535",
   "metadata": {},
   "source": [
    "## Cell Insight — Missingness heatmap (sample)\n",
    "\n",
    "- Purpose: visualize the pattern of missing values across rows and columns (sampled when large).\n",
    "- Why this approach: heatmaps make it easy to see blocky missingness (e.g., whole columns missing for subsets) and identify correlated missingness between columns.\n",
    "- Basic insight: if missingness clusters by row group, consider investigating data collection filters or merging steps; if columns are almost entirely missing, consider dropping them."
   ]
  },
  {
   "cell_type": "code",
   "execution_count": 10,
   "id": "3020c93b",
   "metadata": {},
   "outputs": [
    {
     "name": "stdout",
     "output_type": "stream",
     "text": [
      "Using target column: case_status\n"
     ]
    },
    {
     "data": {
      "text/plain": [
       "case_status\n",
       "Certified    17018\n",
       "Denied        8462\n",
       "Name: count, dtype: int64"
      ]
     },
     "metadata": {},
     "output_type": "display_data"
    },
    {
     "data": {
      "text/plain": [
       "case_status\n",
       "Certified    0.668\n",
       "Denied       0.332\n",
       "Name: proportion, dtype: float64"
      ]
     },
     "metadata": {},
     "output_type": "display_data"
    }
   ],
   "source": [
    "# Quick check for a typical target column (e.g., case_status) and its distribution\n",
    "candidates = [c for c in df.columns if c.lower() in ('case_status','case outcome','case_outcome','status','decision')]\n",
    "if candidates:\n",
    "    tgt = candidates[0]\n",
    "    print('Using target column:', tgt)\n",
    "    display(df[tgt].value_counts(dropna=False).rename('count'))\n",
    "    display(df[tgt].value_counts(normalize=True, dropna=False).rename('proportion').round(3))\n",
    "else:\n",
    "    print('No obvious target column found. Candidate columns to inspect:')\n",
    "    print(df.columns.tolist()[:50])"
   ]
  },
  {
   "cell_type": "markdown",
   "id": "dc336b02",
   "metadata": {},
   "source": [
    "## Cell Insight — Target identification and quick distribution\n",
    "\n",
    "- Purpose: automatically detect an obvious target column (common names) and show counts/proportions.\n",
    "- Why this approach: saves time by programmatically picking likely target columns instead of manual inspection; showing both counts and proportions helps gauge class imbalance early.\n",
    "- Basic insight: if the target is heavily imbalanced, consider balancing strategies or appropriate evaluation metrics (e.g., F1, PR-AUC). If no candidate is found, you can manually assign `tgt = '<column_name>'`."
   ]
  },
  {
   "cell_type": "code",
   "execution_count": 12,
   "id": "19431dfe",
   "metadata": {},
   "outputs": [
    {
     "name": "stderr",
     "output_type": "stream",
     "text": [
      "C:\\Users\\Maduka\\AppData\\Local\\Temp\\ipykernel_24488\\1095320310.py:20: UserWarning: This figure includes Axes that are not compatible with tight_layout, so results might be incorrect.\n",
      "  plt.tight_layout()\n"
     ]
    },
    {
     "data": {
      "text/plain": [
       "<Figure size 1000x600 with 0 Axes>"
      ]
     },
     "metadata": {},
     "output_type": "display_data"
    },
    {
     "data": {
      "image/png": "[encoded data removed]",
      "text/plain": [
       "<Figure size 2500x1000 with 2 Axes>"
      ]
     },
     "metadata": {},
     "output_type": "display_data"
    }
   ],
   "source": [
    "# Plot missingness using missingno (msno)\n",
    "try:\n",
    "    import missingno as msno\n",
    "except Exception:\n",
    "    msno = None\n",
    "\n",
    "import matplotlib.pyplot as plt\n",
    "import seaborn as sns\n",
    "\n",
    "# Use existing `df` DataFrame from the notebook kernel\n",
    "plt.figure(figsize=(10, 6))\n",
    "if msno is not None:\n",
    "    msno.matrix(df, fontsize=12)\n",
    "    plt.title('Missingness matrix')\n",
    "else:\n",
    "    # Fallback: heatmap of missingness fraction per column\n",
    "    sns.heatmap(df.isnull(), cbar=False)\n",
    "    plt.title('Missingness heatmap (fallback)')\n",
    "\n",
    "plt.tight_layout()\n",
    "plt.show()"
   ]
  },
  {
   "cell_type": "markdown",
   "id": "7a9ce303",
   "metadata": {},
   "source": [
    "## Cell Insight — Missingness matrix (missingno) or fallback\n",
    "\n",
    "- Purpose: provide a compact matrix-style visualization of missingness across the whole dataset.\n",
    "- Why this approach: `missingno.matrix` is useful to quickly see overall completeness and row-level patterns; fallback heatmap is provided for environments without `missingno`.\n",
    "- Basic insight: if missingness appears random, simple imputation may suffice; if it's structured, imputation by group or model may be needed."
   ]
  },
  {
   "cell_type": "code",
   "execution_count": 13,
   "id": "40f80fa3",
   "metadata": {},
   "outputs": [
    {
     "name": "stderr",
     "output_type": "stream",
     "text": [
      "C:\\Users\\Maduka\\AppData\\Local\\Temp\\ipykernel_24488\\1015887501.py:8: FutureWarning: \n",
      "\n",
      "Passing `palette` without assigning `hue` is deprecated and will be removed in v0.14.0. Assign the `x` variable to `hue` and set `legend=False` for the same effect.\n",
      "\n",
      "  ax = sns.countplot(data=df, x=tgt, palette='Set2')\n"
     ]
    },
    {
     "data": {
      "image/png": "[encoded data removed]",
      "text/plain": [
       "<Figure size 800x500 with 1 Axes>"
      ]
     },
     "metadata": {},
     "output_type": "display_data"
    }
   ],
   "source": [
    "# Plot distribution of target variable\n",
    "import matplotlib.pyplot as plt\n",
    "import seaborn as sns\n",
    "\n",
    "# Use `tgt` variable (string name of target column) and `df` DataFrame from kernel\n",
    "if 'tgt' in globals() and tgt in df.columns:\n",
    "    plt.figure(figsize=(8, 5))\n",
    "    ax = sns.countplot(data=df, x=tgt, palette='Set2')\n",
    "    plt.title(f'Distribution of target: {tgt}')\n",
    "    plt.ylabel('Count')\n",
    "    plt.xlabel(tgt)\n",
    "\n",
    "    # Annotate bars with counts\n",
    "    for p in ax.patches:\n",
    "        height = p.get_height()\n",
    "        ax.annotate(f'{int(height)}', (p.get_x() + p.get_width() / 2., height),\n",
    "                    ha='center', va='bottom')\n",
    "\n",
    "    plt.tight_layout()\n",
    "    plt.show()\n",
    "else:\n",
    "    print(\"Target variable `tgt` not found in kernel or not a column in `df`. Available columns:\")\n",
    "    print(df.columns.tolist())"
   ]
  },
  {
   "cell_type": "markdown",
   "id": "dbba5e7b",
   "metadata": {},
   "source": [
    "## Cell Insight — Target distribution plot\n",
    "\n",
    "- Purpose: visualize counts for each target class using a bar plot and annotate counts on bars.\n",
    "- Why this approach: visual class distribution communicates imbalance more intuitively than raw numbers and helps decide stratification or resampling strategies.\n",
    "- Basic insight: annotated bars provide exact counts; if many unique classes exist, consider grouping rare classes into \"Other\" for modeling."
   ]
  },
  {
   "cell_type": "code",
   "execution_count": 14,
   "id": "76e8d006",
   "metadata": {},
   "outputs": [
    {
     "name": "stdout",
     "output_type": "stream",
     "text": [
      "CERTIFIED: 17018 (66.79%)\n",
      "DENIED:    8462 (33.21%)\n"
     ]
    },
    {
     "data": {
      "text/html": [
       "<div>\n",
       "<style scoped>\n",
       "    .dataframe tbody tr th:only-of-type {\n",
       "        vertical-align: middle;\n",
       "    }\n",
       "\n",
       "    .dataframe tbody tr th {\n",
       "        vertical-align: top;\n",
       "    }\n",
       "\n",
       "    .dataframe thead th {\n",
       "        text-align: right;\n",
       "    }\n",
       "</style>\n",
       "<table border=\"1\" class=\"dataframe\">\n",
       "  <thead>\n",
       "    <tr style=\"text-align: right;\">\n",
       "      <th></th>\n",
       "      <th>count</th>\n",
       "      <th>percent</th>\n",
       "    </tr>\n",
       "    <tr>\n",
       "      <th>case_status</th>\n",
       "      <th></th>\n",
       "      <th></th>\n",
       "    </tr>\n",
       "  </thead>\n",
       "  <tbody>\n",
       "    <tr>\n",
       "      <th>Certified</th>\n",
       "      <td>17018</td>\n",
       "      <td>66.79</td>\n",
       "    </tr>\n",
       "    <tr>\n",
       "      <th>Denied</th>\n",
       "      <td>8462</td>\n",
       "      <td>33.21</td>\n",
       "    </tr>\n",
       "  </tbody>\n",
       "</table>\n",
       "</div>"
      ],
      "text/plain": [
       "             count  percent\n",
       "case_status                \n",
       "Certified    17018    66.79\n",
       "Denied        8462    33.21"
      ]
     },
     "metadata": {},
     "output_type": "display_data"
    }
   ],
   "source": [
    "# Compute counts and percentages for CERTIFIED vs DENIED (using normalize=True)\n",
    "if 'tgt' in globals() and tgt in df.columns:\n",
    "    counts = df[tgt].value_counts(dropna=False)\n",
    "    pct = df[tgt].value_counts(normalize=True, dropna=False).mul(100).round(2)\n",
    "\n",
    "    # Filter for CERTIFIED and DENIED (case-insensitive match)\n",
    "    def get_count_label(label):\n",
    "        matches = [k for k in counts.index if isinstance(k, str) and k.strip().lower()==label.lower()]\n",
    "        if matches:\n",
    "            k = matches[0]\n",
    "            return counts[k], pct[k]\n",
    "        return 0, 0.0\n",
    "\n",
    "    certified_count, certified_pct = get_count_label('CERTIFIED')\n",
    "    denied_count, denied_pct = get_count_label('DENIED')\n",
    "\n",
    "    print(f\"CERTIFIED: {certified_count} ({certified_pct}%)\")\n",
    "    print(f\"DENIED:    {denied_count} ({denied_pct}%)\")\n",
    "\n",
    "    # Also show full table for reference\n",
    "    display(pd.DataFrame({'count': counts, 'percent': pct}))\n",
    "else:\n",
    "    print(\"Target variable `tgt` not found or not a column in `df`.\")\n",
    "    print(df.columns.tolist())"
   ]
  },
  {
   "cell_type": "markdown",
   "id": "42a77520",
   "metadata": {},
   "source": [
    "## Cell Insight — CERTIFIED vs DENIED counts & percentages\n",
    "\n",
    "- Purpose: compute raw counts and normalized percentages (using `normalize=True`) for the two most important outcome classes.\n",
    "- Why this approach: normalizing makes it trivial to understand class balance in percent form and compare across datasets of different sizes.\n",
    "- Basic insight: use the printed counts and percentages to report results and to decide whether balancing is needed for modeling."
   ]
  },
  {
   "cell_type": "code",
   "execution_count": 15,
   "id": "eb6ffa3d",
   "metadata": {},
   "outputs": [
    {
     "name": "stdout",
     "output_type": "stream",
     "text": [
      "Shape: (25480, 12)\n",
      "\n",
      "Info:\n",
      "<class 'pandas.core.frame.DataFrame'>\n",
      "RangeIndex: 25480 entries, 0 to 25479\n",
      "Data columns (total 12 columns):\n",
      " #   Column                 Non-Null Count  Dtype  \n",
      "---  ------                 --------------  -----  \n",
      " 0   case_id                25480 non-null  object \n",
      " 1   continent              25480 non-null  object \n",
      " 2   education_of_employee  25480 non-null  object \n",
      " 3   has_job_experience     25480 non-null  object \n",
      " 4   requires_job_training  25480 non-null  object \n",
      " 5   no_of_employees        25480 non-null  int64  \n",
      " 6   yr_of_estab            25480 non-null  int64  \n",
      " 7   region_of_employment   25480 non-null  object \n",
      " 8   prevailing_wage        25480 non-null  float64\n",
      " 9   unit_of_wage           25480 non-null  object \n",
      " 10  full_time_position     25480 non-null  object \n",
      " 11  case_status            25480 non-null  object \n",
      "dtypes: float64(1), int64(2), object(9)\n",
      "memory usage: 2.3+ MB\n",
      "None\n",
      "\n",
      "Dtypes:\n",
      "case_id                   object\n",
      "continent                 object\n",
      "education_of_employee     object\n",
      "has_job_experience        object\n",
      "requires_job_training     object\n",
      "no_of_employees            int64\n",
      "yr_of_estab                int64\n",
      "region_of_employment      object\n",
      "prevailing_wage          float64\n",
      "unit_of_wage              object\n",
      "full_time_position        object\n",
      "case_status               object\n",
      "dtype: object\n",
      "\n",
      "Describe (numerical):\n",
      "                   count          mean           std        min       25%  \\\n",
      "no_of_employees  25480.0   5667.043210  22877.928848   -26.0000   1022.00   \n",
      "yr_of_estab      25480.0   1979.409929     42.366929  1800.0000   1976.00   \n",
      "prevailing_wage  25480.0  74455.814592  52815.942327     2.1367  34015.48   \n",
      "\n",
      "                      50%          75%        max  \n",
      "no_of_employees   2109.00    3504.0000  602069.00  \n",
      "yr_of_estab       1997.00    2005.0000    2016.00  \n",
      "prevailing_wage  70308.21  107735.5125  319210.27  \n",
      "\n",
      "Numerical columns: ['no_of_employees', 'yr_of_estab', 'prevailing_wage']\n",
      "\n",
      "Categorical columns: ['case_id', 'continent', 'education_of_employee', 'has_job_experience', 'requires_job_training', 'region_of_employment', 'unit_of_wage', 'full_time_position']\n",
      "\n",
      "High cardinality check (categorical features):\n",
      "Column continent: unique=6 (0.02%)\n",
      "Column education_of_employee: unique=4 (0.02%)\n",
      "Column has_job_experience: unique=2 (0.01%)\n",
      "Column requires_job_training: unique=2 (0.01%)\n",
      "Column region_of_employment: unique=5 (0.02%)\n",
      "Column unit_of_wage: unique=4 (0.02%)\n",
      "Column full_time_position: unique=2 (0.01%)\n"
     ]
    }
   ],
   "source": [
    "# Dataset overview: shape, info, dtypes, describe, numerical and categorical lists\n",
    "print(f\"Shape: {df.shape}\")\n",
    "\n",
    "print('\\nInfo:')\n",
    "# Show info() to stdout\n",
    "import sys\n",
    "_df_buf = []\n",
    "print(df.info(buf=None))\n",
    "\n",
    "print('\\nDtypes:')\n",
    "print(df.dtypes)\n",
    "\n",
    "print('\\nDescribe (numerical):')\n",
    "print(df.describe(include=[np.number]).T)\n",
    "\n",
    "# Numerical columns\n",
    "num_cols = [c for c in df.columns if df[c].dtype in [\"int64\", \"float64\", \"int32\", \"float32\"]]\n",
    "print(f\"\\nNumerical columns: {num_cols}\")\n",
    "\n",
    "# Categorical columns -> use list comprehension with if / not in\n",
    "cat_cols = [c for c in df.columns if c not in num_cols and c not in [tgt] if df[c].dtype == 'object' or df[c].dtype.name=='category']\n",
    "print(f\"\\nCategorical columns: {cat_cols}\")\n",
    "\n",
    "# Check high cardinality for categorical features (loop). Skip case_id.\n",
    "print('\\nHigh cardinality check (categorical features):')\n",
    "for col in cat_cols:\n",
    "    if col == 'case_id':\n",
    "        continue\n",
    "    n_unique = df[col].nunique(dropna=True)\n",
    "    pct_unique = n_unique / len(df) * 100\n",
    "    if n_unique > 50 or pct_unique > 50:\n",
    "        print(f\"Column {col}: high cardinality -> unique={n_unique} ({pct_unique:.2f}%)\")\n",
    "    else:\n",
    "        print(f\"Column {col}: unique={n_unique} ({pct_unique:.2f}%)\")"
   ]
  },
  {
   "cell_type": "markdown",
   "id": "2a62014f",
   "metadata": {},
   "source": [
    "## Cell Insight — Dataset overview and cardinality checks\n",
    "\n",
    "- Purpose: summarize shape, dtypes, numerical summaries and list numerical/categorical columns; check categorical cardinality and skip obvious ID columns.\n",
    "- Why this approach: building column lists programmatically speeds up downstream feature engineering and helps detect high-cardinality categorical features early (which affect encoding choices).\n",
    "- Basic insight: pay attention to columns flagged as high-cardinality — these may require hashing, embedding, or dropping depending on modeling choices."
   ]
  },
  {
   "cell_type": "code",
   "execution_count": null,
   "id": "031d7b0d",
   "metadata": {},
   "outputs": [],
   "source": []
  },
  {
   "cell_type": "markdown",
   "id": "90e3ced7",
   "metadata": {},
   "source": [
    "## High-level insights & recommended next steps\n",
    "\n",
    "- Summarize key findings from the cells above: missingness patterns, target imbalance, and columns with high cardinality.\n",
    "- Recommendations:\n",
    "  - Impute or drop columns with excessive missingness.\n",
    "  - If the target is imbalanced, plan for stratified splits, resampling, or metric choices robust to imbalance.\n",
    "  - For high-cardinality categorical columns, consider frequency-binning, target encoding, or embeddings depending on model complexity.\n",
    "- Next steps: create a small preprocessing pipeline that documents imputation strategies, categorical encoding choices, and a reproducible train/test split."
   ]
  },
  {
   "cell_type": "code",
   "execution_count": null,
   "id": "9b745ad6",
   "metadata": {},
   "outputs": [],
   "source": []
  },
  {
   "cell_type": "code",
   "execution_count": 4,
   "id": "77594985",
   "metadata": {},
   "outputs": [
    {
     "ename": "FileNotFoundError",
     "evalue": "[Errno 2] No such file or directory: 'sample.csv'",
     "output_type": "error",
     "traceback": [
      "\u001b[31m---------------------------------------------------------------------------\u001b[39m",
      "\u001b[31mFileNotFoundError\u001b[39m                         Traceback (most recent call last)",
      "\u001b[36mCell\u001b[39m\u001b[36m \u001b[39m\u001b[32mIn[4]\u001b[39m\u001b[32m, line 9\u001b[39m\n\u001b[32m      5\u001b[39m \u001b[38;5;28;01mimport\u001b[39;00m\u001b[38;5;250m \u001b[39m\u001b[34;01mmatplotlib\u001b[39;00m\u001b[34;01m.\u001b[39;00m\u001b[34;01mpyplot\u001b[39;00m\u001b[38;5;250m \u001b[39m\u001b[38;5;28;01mas\u001b[39;00m\u001b[38;5;250m \u001b[39m\u001b[34;01mplt\u001b[39;00m\n\u001b[32m      6\u001b[39m \u001b[38;5;28;01mimport\u001b[39;00m\u001b[38;5;250m \u001b[39m\u001b[34;01mseaborn\u001b[39;00m\u001b[38;5;250m \u001b[39m\u001b[38;5;28;01mas\u001b[39;00m\u001b[38;5;250m \u001b[39m\u001b[34;01msns\u001b[39;00m\n\u001b[32m----> \u001b[39m\u001b[32m9\u001b[39m df = \u001b[43mpd\u001b[49m\u001b[43m.\u001b[49m\u001b[43mread_csv\u001b[49m\u001b[43m(\u001b[49m\u001b[33;43m'\u001b[39;49m\u001b[33;43msample.csv\u001b[39;49m\u001b[33;43m'\u001b[39;49m\u001b[43m)\u001b[49m  \n\u001b[32m     12\u001b[39m num_cols = df.select_dtypes(include=[\u001b[33m'\u001b[39m\u001b[33mint64\u001b[39m\u001b[33m'\u001b[39m, \u001b[33m'\u001b[39m\u001b[33mfloat64\u001b[39m\u001b[33m'\u001b[39m]).columns.tolist()\n\u001b[32m     13\u001b[39m num_to_plot = num_cols[:\u001b[32m3\u001b[39m] \u001b[38;5;28;01mif\u001b[39;00m \u001b[38;5;28mlen\u001b[39m(num_cols) \u001b[38;5;28;01melse\u001b[39;00m []\n",
      "\u001b[36mFile \u001b[39m\u001b[32mc:\\Users\\Maduka\\OneDrive\\Documents\\USvisaProject\\myenv\\Lib\\site-packages\\pandas\\io\\parsers\\readers.py:1026\u001b[39m, in \u001b[36mread_csv\u001b[39m\u001b[34m(filepath_or_buffer, sep, delimiter, header, names, index_col, usecols, dtype, engine, converters, true_values, false_values, skipinitialspace, skiprows, skipfooter, nrows, na_values, keep_default_na, na_filter, verbose, skip_blank_lines, parse_dates, infer_datetime_format, keep_date_col, date_parser, date_format, dayfirst, cache_dates, iterator, chunksize, compression, thousands, decimal, lineterminator, quotechar, quoting, doublequote, escapechar, comment, encoding, encoding_errors, dialect, on_bad_lines, delim_whitespace, low_memory, memory_map, float_precision, storage_options, dtype_backend)\u001b[39m\n\u001b[32m   1013\u001b[39m kwds_defaults = _refine_defaults_read(\n\u001b[32m   1014\u001b[39m     dialect,\n\u001b[32m   1015\u001b[39m     delimiter,\n\u001b[32m   (...)\u001b[39m\u001b[32m   1022\u001b[39m     dtype_backend=dtype_backend,\n\u001b[32m   1023\u001b[39m )\n\u001b[32m   1024\u001b[39m kwds.update(kwds_defaults)\n\u001b[32m-> \u001b[39m\u001b[32m1026\u001b[39m \u001b[38;5;28;01mreturn\u001b[39;00m \u001b[43m_read\u001b[49m\u001b[43m(\u001b[49m\u001b[43mfilepath_or_buffer\u001b[49m\u001b[43m,\u001b[49m\u001b[43m \u001b[49m\u001b[43mkwds\u001b[49m\u001b[43m)\u001b[49m\n",
      "\u001b[36mFile \u001b[39m\u001b[32mc:\\Users\\Maduka\\OneDrive\\Documents\\USvisaProject\\myenv\\Lib\\site-packages\\pandas\\io\\parsers\\readers.py:620\u001b[39m, in \u001b[36m_read\u001b[39m\u001b[34m(filepath_or_buffer, kwds)\u001b[39m\n\u001b[32m    617\u001b[39m _validate_names(kwds.get(\u001b[33m\"\u001b[39m\u001b[33mnames\u001b[39m\u001b[33m\"\u001b[39m, \u001b[38;5;28;01mNone\u001b[39;00m))\n\u001b[32m    619\u001b[39m \u001b[38;5;66;03m# Create the parser.\u001b[39;00m\n\u001b[32m--> \u001b[39m\u001b[32m620\u001b[39m parser = \u001b[43mTextFileReader\u001b[49m\u001b[43m(\u001b[49m\u001b[43mfilepath_or_buffer\u001b[49m\u001b[43m,\u001b[49m\u001b[43m \u001b[49m\u001b[43m*\u001b[49m\u001b[43m*\u001b[49m\u001b[43mkwds\u001b[49m\u001b[43m)\u001b[49m\n\u001b[32m    622\u001b[39m \u001b[38;5;28;01mif\u001b[39;00m chunksize \u001b[38;5;129;01mor\u001b[39;00m iterator:\n\u001b[32m    623\u001b[39m     \u001b[38;5;28;01mreturn\u001b[39;00m parser\n",
      "\u001b[36mFile \u001b[39m\u001b[32mc:\\Users\\Maduka\\OneDrive\\Documents\\USvisaProject\\myenv\\Lib\\site-packages\\pandas\\io\\parsers\\readers.py:1620\u001b[39m, in \u001b[36mTextFileReader.__init__\u001b[39m\u001b[34m(self, f, engine, **kwds)\u001b[39m\n\u001b[32m   1617\u001b[39m     \u001b[38;5;28mself\u001b[39m.options[\u001b[33m\"\u001b[39m\u001b[33mhas_index_names\u001b[39m\u001b[33m\"\u001b[39m] = kwds[\u001b[33m\"\u001b[39m\u001b[33mhas_index_names\u001b[39m\u001b[33m\"\u001b[39m]\n\u001b[32m   1619\u001b[39m \u001b[38;5;28mself\u001b[39m.handles: IOHandles | \u001b[38;5;28;01mNone\u001b[39;00m = \u001b[38;5;28;01mNone\u001b[39;00m\n\u001b[32m-> \u001b[39m\u001b[32m1620\u001b[39m \u001b[38;5;28mself\u001b[39m._engine = \u001b[38;5;28;43mself\u001b[39;49m\u001b[43m.\u001b[49m\u001b[43m_make_engine\u001b[49m\u001b[43m(\u001b[49m\u001b[43mf\u001b[49m\u001b[43m,\u001b[49m\u001b[43m \u001b[49m\u001b[38;5;28;43mself\u001b[39;49m\u001b[43m.\u001b[49m\u001b[43mengine\u001b[49m\u001b[43m)\u001b[49m\n",
      "\u001b[36mFile \u001b[39m\u001b[32mc:\\Users\\Maduka\\OneDrive\\Documents\\USvisaProject\\myenv\\Lib\\site-packages\\pandas\\io\\parsers\\readers.py:1880\u001b[39m, in \u001b[36mTextFileReader._make_engine\u001b[39m\u001b[34m(self, f, engine)\u001b[39m\n\u001b[32m   1878\u001b[39m     \u001b[38;5;28;01mif\u001b[39;00m \u001b[33m\"\u001b[39m\u001b[33mb\u001b[39m\u001b[33m\"\u001b[39m \u001b[38;5;129;01mnot\u001b[39;00m \u001b[38;5;129;01min\u001b[39;00m mode:\n\u001b[32m   1879\u001b[39m         mode += \u001b[33m\"\u001b[39m\u001b[33mb\u001b[39m\u001b[33m\"\u001b[39m\n\u001b[32m-> \u001b[39m\u001b[32m1880\u001b[39m \u001b[38;5;28mself\u001b[39m.handles = \u001b[43mget_handle\u001b[49m\u001b[43m(\u001b[49m\n\u001b[32m   1881\u001b[39m \u001b[43m    \u001b[49m\u001b[43mf\u001b[49m\u001b[43m,\u001b[49m\n\u001b[32m   1882\u001b[39m \u001b[43m    \u001b[49m\u001b[43mmode\u001b[49m\u001b[43m,\u001b[49m\n\u001b[32m   1883\u001b[39m \u001b[43m    \u001b[49m\u001b[43mencoding\u001b[49m\u001b[43m=\u001b[49m\u001b[38;5;28;43mself\u001b[39;49m\u001b[43m.\u001b[49m\u001b[43moptions\u001b[49m\u001b[43m.\u001b[49m\u001b[43mget\u001b[49m\u001b[43m(\u001b[49m\u001b[33;43m\"\u001b[39;49m\u001b[33;43mencoding\u001b[39;49m\u001b[33;43m\"\u001b[39;49m\u001b[43m,\u001b[49m\u001b[43m \u001b[49m\u001b[38;5;28;43;01mNone\u001b[39;49;00m\u001b[43m)\u001b[49m\u001b[43m,\u001b[49m\n\u001b[32m   1884\u001b[39m \u001b[43m    \u001b[49m\u001b[43mcompression\u001b[49m\u001b[43m=\u001b[49m\u001b[38;5;28;43mself\u001b[39;49m\u001b[43m.\u001b[49m\u001b[43moptions\u001b[49m\u001b[43m.\u001b[49m\u001b[43mget\u001b[49m\u001b[43m(\u001b[49m\u001b[33;43m\"\u001b[39;49m\u001b[33;43mcompression\u001b[39;49m\u001b[33;43m\"\u001b[39;49m\u001b[43m,\u001b[49m\u001b[43m \u001b[49m\u001b[38;5;28;43;01mNone\u001b[39;49;00m\u001b[43m)\u001b[49m\u001b[43m,\u001b[49m\n\u001b[32m   1885\u001b[39m \u001b[43m    \u001b[49m\u001b[43mmemory_map\u001b[49m\u001b[43m=\u001b[49m\u001b[38;5;28;43mself\u001b[39;49m\u001b[43m.\u001b[49m\u001b[43moptions\u001b[49m\u001b[43m.\u001b[49m\u001b[43mget\u001b[49m\u001b[43m(\u001b[49m\u001b[33;43m\"\u001b[39;49m\u001b[33;43mmemory_map\u001b[39;49m\u001b[33;43m\"\u001b[39;49m\u001b[43m,\u001b[49m\u001b[43m \u001b[49m\u001b[38;5;28;43;01mFalse\u001b[39;49;00m\u001b[43m)\u001b[49m\u001b[43m,\u001b[49m\n\u001b[32m   1886\u001b[39m \u001b[43m    \u001b[49m\u001b[43mis_text\u001b[49m\u001b[43m=\u001b[49m\u001b[43mis_text\u001b[49m\u001b[43m,\u001b[49m\n\u001b[32m   1887\u001b[39m \u001b[43m    \u001b[49m\u001b[43merrors\u001b[49m\u001b[43m=\u001b[49m\u001b[38;5;28;43mself\u001b[39;49m\u001b[43m.\u001b[49m\u001b[43moptions\u001b[49m\u001b[43m.\u001b[49m\u001b[43mget\u001b[49m\u001b[43m(\u001b[49m\u001b[33;43m\"\u001b[39;49m\u001b[33;43mencoding_errors\u001b[39;49m\u001b[33;43m\"\u001b[39;49m\u001b[43m,\u001b[49m\u001b[43m \u001b[49m\u001b[33;43m\"\u001b[39;49m\u001b[33;43mstrict\u001b[39;49m\u001b[33;43m\"\u001b[39;49m\u001b[43m)\u001b[49m\u001b[43m,\u001b[49m\n\u001b[32m   1888\u001b[39m \u001b[43m    \u001b[49m\u001b[43mstorage_options\u001b[49m\u001b[43m=\u001b[49m\u001b[38;5;28;43mself\u001b[39;49m\u001b[43m.\u001b[49m\u001b[43moptions\u001b[49m\u001b[43m.\u001b[49m\u001b[43mget\u001b[49m\u001b[43m(\u001b[49m\u001b[33;43m\"\u001b[39;49m\u001b[33;43mstorage_options\u001b[39;49m\u001b[33;43m\"\u001b[39;49m\u001b[43m,\u001b[49m\u001b[43m \u001b[49m\u001b[38;5;28;43;01mNone\u001b[39;49;00m\u001b[43m)\u001b[49m\u001b[43m,\u001b[49m\n\u001b[32m   1889\u001b[39m \u001b[43m\u001b[49m\u001b[43m)\u001b[49m\n\u001b[32m   1890\u001b[39m \u001b[38;5;28;01massert\u001b[39;00m \u001b[38;5;28mself\u001b[39m.handles \u001b[38;5;129;01mis\u001b[39;00m \u001b[38;5;129;01mnot\u001b[39;00m \u001b[38;5;28;01mNone\u001b[39;00m\n\u001b[32m   1891\u001b[39m f = \u001b[38;5;28mself\u001b[39m.handles.handle\n",
      "\u001b[36mFile \u001b[39m\u001b[32mc:\\Users\\Maduka\\OneDrive\\Documents\\USvisaProject\\myenv\\Lib\\site-packages\\pandas\\io\\common.py:873\u001b[39m, in \u001b[36mget_handle\u001b[39m\u001b[34m(path_or_buf, mode, encoding, compression, memory_map, is_text, errors, storage_options)\u001b[39m\n\u001b[32m    868\u001b[39m \u001b[38;5;28;01melif\u001b[39;00m \u001b[38;5;28misinstance\u001b[39m(handle, \u001b[38;5;28mstr\u001b[39m):\n\u001b[32m    869\u001b[39m     \u001b[38;5;66;03m# Check whether the filename is to be opened in binary mode.\u001b[39;00m\n\u001b[32m    870\u001b[39m     \u001b[38;5;66;03m# Binary mode does not support 'encoding' and 'newline'.\u001b[39;00m\n\u001b[32m    871\u001b[39m     \u001b[38;5;28;01mif\u001b[39;00m ioargs.encoding \u001b[38;5;129;01mand\u001b[39;00m \u001b[33m\"\u001b[39m\u001b[33mb\u001b[39m\u001b[33m\"\u001b[39m \u001b[38;5;129;01mnot\u001b[39;00m \u001b[38;5;129;01min\u001b[39;00m ioargs.mode:\n\u001b[32m    872\u001b[39m         \u001b[38;5;66;03m# Encoding\u001b[39;00m\n\u001b[32m--> \u001b[39m\u001b[32m873\u001b[39m         handle = \u001b[38;5;28;43mopen\u001b[39;49m\u001b[43m(\u001b[49m\n\u001b[32m    874\u001b[39m \u001b[43m            \u001b[49m\u001b[43mhandle\u001b[49m\u001b[43m,\u001b[49m\n\u001b[32m    875\u001b[39m \u001b[43m            \u001b[49m\u001b[43mioargs\u001b[49m\u001b[43m.\u001b[49m\u001b[43mmode\u001b[49m\u001b[43m,\u001b[49m\n\u001b[32m    876\u001b[39m \u001b[43m            \u001b[49m\u001b[43mencoding\u001b[49m\u001b[43m=\u001b[49m\u001b[43mioargs\u001b[49m\u001b[43m.\u001b[49m\u001b[43mencoding\u001b[49m\u001b[43m,\u001b[49m\n\u001b[32m    877\u001b[39m \u001b[43m            \u001b[49m\u001b[43merrors\u001b[49m\u001b[43m=\u001b[49m\u001b[43merrors\u001b[49m\u001b[43m,\u001b[49m\n\u001b[32m    878\u001b[39m \u001b[43m            \u001b[49m\u001b[43mnewline\u001b[49m\u001b[43m=\u001b[49m\u001b[33;43m\"\u001b[39;49m\u001b[33;43m\"\u001b[39;49m\u001b[43m,\u001b[49m\n\u001b[32m    879\u001b[39m \u001b[43m        \u001b[49m\u001b[43m)\u001b[49m\n\u001b[32m    880\u001b[39m     \u001b[38;5;28;01melse\u001b[39;00m:\n\u001b[32m    881\u001b[39m         \u001b[38;5;66;03m# Binary mode\u001b[39;00m\n\u001b[32m    882\u001b[39m         handle = \u001b[38;5;28mopen\u001b[39m(handle, ioargs.mode)\n",
      "\u001b[31mFileNotFoundError\u001b[39m: [Errno 2] No such file or directory: 'sample.csv'"
     ]
    }
   ],
   "source": [
    "# Univariate analysis — numerical columns (first 3 numeric cols)\n",
    "# Identify numerical columns\n",
    "\n",
    "import pandas as pd\n",
    "import matplotlib.pyplot as plt\n",
    "import seaborn as sns\n",
    "\n",
    "\n",
    "df = pd.read_csv('sample.csv')  \n",
    "\n",
    "\n",
    "num_cols = df.select_dtypes(include=['int64', 'float64']).columns.tolist()\n",
    "num_to_plot = num_cols[:3] if len(num_cols) else []\n",
    "\n",
    "if not num_to_plot:\n",
    "    print('No numerical columns detected.')\n",
    "else:\n",
    "    for col in num_to_plot:\n",
    "        data = df[col].dropna()\n",
    "        plt.figure(figsize=(8, 4))\n",
    "        sns.histplot(data, kde=True, bins=30)\n",
    "        plt.title(f'Histogram of {col}')\n",
    "        plt.xlabel(col)\n",
    "        plt.ylabel('Count')\n",
    "        plt.tight_layout()\n",
    "        plt.show()\n",
    "\n",
    "        \n",
    "        print(f\"Observations for {col}:\")\n",
    "        print(f\"  mean = {data.mean():.2f}\")\n",
    "        print(f\"  median = {data.median():.2f}\")\n",
    "        print(f\"  std = {data.std():.2f}\")\n",
    "        print(f\"  missing = {df[col].isnull().sum()} ({df[col].isnull().mean()*100:.2f}%)\")\n",
    "        print('-' * 60)\n",
    "\n"
   ]
  },
  {
   "cell_type": "code",
   "execution_count": null,
   "id": "38b60464",
   "metadata": {},
   "outputs": [],
   "source": [
    "# Univariate analysis — categorical columns\n",
    "if not cat_cols:\n",
    "    print('No categorical columns detected.')\n",
    "else:\n",
    "    for col in cat_cols:\n",
    "        plt.figure(figsize=(8,4))\n",
    "        vc = df[col].value_counts(dropna=False).head(20)\n",
    "        sns.barplot(x=vc.values, y=vc.index, palette='viridis')\n",
    "        plt.title(f'Top categories for {col}')\n",
    "        plt.xlabel('Count')\n",
    "        plt.ylabel(col)\n",
    "        plt.tight_layout()\n",
    "        plt.show()\n",
    "\n",
    "        # Observations\n",
    "        n_unique = df[col].nunique(dropna=True)\n",
    "        top = vc.index[0]\n",
    "        top_count = vc.iloc[0]\n",
    "        print(f\"Observations for {col}:\")\n",
    "        print(f\"  unique values: {n_unique}\")\n",
    "        print(f\"  top: {top} ({top_count} / {len(df)} = {top_count/len(df)*100:.2f}%)\")\n",
    "        if n_unique > 50:\n",
    "            print('  Note: high cardinality — consider grouping or encoding strategies')\n",
    "        print('-'*60)"
   ]
  }
 ],
 "metadata": {
  "kernelspec": {
   "display_name": "myenv",
   "language": "python",
   "name": "python3"
  },
  "language_info": {
   "codemirror_mode": {
    "name": "ipython",
    "version": 3
   },
   "file_extension": ".py",
   "mimetype": "text/x-python",
   "name": "python",
   "nbconvert_exporter": "python",
   "pygments_lexer": "ipython3",
   "version": "3.11.9"
  }
 },
 "nbformat": 4,
 "nbformat_minor": 5
}
