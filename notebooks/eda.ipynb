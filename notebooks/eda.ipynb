{
 "cells": [
  {
   "cell_type": "markdown",
   "id": "20b066dc",
   "metadata": {},
   "source": [
    "# EDA Notebook\n",
    "This is a placeholder notebook for exploratory data analysis. Replace with real cells.\"]}]}"
   ]
  }
 ],
 "metadata": {
  "language_info": {
   "name": "python"
  }
 },
 "nbformat": 4,
 "nbformat_minor": 5
}
